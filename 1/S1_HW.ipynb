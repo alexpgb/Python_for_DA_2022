{
 "cells": [
  {
   "cell_type": "markdown",
   "id": "7527562c",
   "metadata": {},
   "source": [
    "## Условие 1:\n",
    "Оформляйте ноутбук, используя эти советы:\n",
    "Номер задачи - заголовок 2\n",
    "Номер подзадачи - заголовок 3\n",
    "Предоставленные наборы данных оформляйте, как код\n",
    "Рекомендации для преподавателей по оценке задания:\n",
    "Смотреть, чтобы студент красиво оформлял ноутбук, использовал ячейки с текстом, указывал номера заданий"
   ]
  },
  {
   "cell_type": "markdown",
   "id": "3c63bd28",
   "metadata": {},
   "source": [
    "## Условие 2:\n",
    "На складе лежат разные фрукты в разном количестве.\n",
    "Нужно написать функцию, которая на вход принимает любое количество названий фруктов и их количество, а возвращает общее количество фруктов на складе"
   ]
  },
  {
   "cell_type": "code",
   "execution_count": 1,
   "id": "2bfb5744",
   "metadata": {},
   "outputs": [],
   "source": [
    "import random as rnd"
   ]
  },
  {
   "cell_type": "code",
   "execution_count": 21,
   "id": "d9b5ae45",
   "metadata": {},
   "outputs": [
    {
     "data": {
      "text/plain": [
       "{'apples': 1, 'bananas': 6, 'peaches': 6}"
      ]
     },
     "execution_count": 21,
     "metadata": {},
     "output_type": "execute_result"
    }
   ],
   "source": [
    "min_fruit_value: int = 1\n",
    "max_fruit_value: int = 10\n",
    "fruits: dict[str, int] = {\n",
    "    'apples':rnd.randint(min_fruit_value, max_fruit_value),\n",
    "    'bananas':rnd.randint(min_fruit_value, max_fruit_value),\n",
    "    'peaches':rnd.randint(min_fruit_value, max_fruit_value),\n",
    "}\n",
    "fruits"
   ]
  },
  {
   "cell_type": "code",
   "execution_count": 30,
   "id": "80491bca",
   "metadata": {},
   "outputs": [
    {
     "data": {
      "text/plain": [
       "13"
      ]
     },
     "execution_count": 30,
     "metadata": {},
     "output_type": "execute_result"
    }
   ],
   "source": [
    "sum(fruits.values())"
   ]
  },
  {
   "cell_type": "code",
   "execution_count": 28,
   "id": "202e28ee",
   "metadata": {},
   "outputs": [],
   "source": [
    "def fruits_sum(d: dict)-> int:\n",
    "    return sum(fruits.values())"
   ]
  },
  {
   "cell_type": "code",
   "execution_count": 29,
   "id": "c177c393",
   "metadata": {},
   "outputs": [
    {
     "data": {
      "text/plain": [
       "13"
      ]
     },
     "execution_count": 29,
     "metadata": {},
     "output_type": "execute_result"
    }
   ],
   "source": [
    "fruits_sum(fruits)\n"
   ]
  },
  {
   "cell_type": "markdown",
   "id": "ea37c1c7",
   "metadata": {},
   "source": [
    "## Условие 3:"
   ]
  },
  {
   "cell_type": "code",
   "execution_count": 31,
   "id": "975a5138",
   "metadata": {},
   "outputs": [
    {
     "data": {
      "text/plain": [
       "[100, 125, -90, 345, 655, -1, 0, 200]"
      ]
     },
     "execution_count": 31,
     "metadata": {},
     "output_type": "execute_result"
    }
   ],
   "source": [
    "# Дан список с затратами на рекламу. Но в данных есть ошибки, некоторые затраты имеют отрицательную величину.\n",
    "# Удалите такие значения из списка и посчитайте суммарные затраты\n",
    "[100, 125, -90, 345, 655, -1, 0, 200]\n",
    "# Используйте list comprehensions"
   ]
  },
  {
   "cell_type": "code",
   "execution_count": 35,
   "id": "849b18c4",
   "metadata": {},
   "outputs": [],
   "source": [
    "data: list[int] = [100, 125, -90, 345, 655, -1, 0, 200]"
   ]
  },
  {
   "cell_type": "code",
   "execution_count": 39,
   "id": "53bc3a00",
   "metadata": {},
   "outputs": [
    {
     "data": {
      "text/plain": [
       "[100, 125, 345, 655, 200]"
      ]
     },
     "execution_count": 39,
     "metadata": {},
     "output_type": "execute_result"
    }
   ],
   "source": [
    "data_wo_negative_values: list[int] = [el for el in data if el > 0]\n",
    "data_wo_negative_values"
   ]
  },
  {
   "cell_type": "code",
   "execution_count": 40,
   "id": "65737ca9",
   "metadata": {},
   "outputs": [
    {
     "data": {
      "text/plain": [
       "1425"
      ]
     },
     "execution_count": 40,
     "metadata": {},
     "output_type": "execute_result"
    }
   ],
   "source": [
    "sum(data_wo_negative_values)"
   ]
  },
  {
   "cell_type": "markdown",
   "id": "3be59647",
   "metadata": {},
   "source": [
    "## Условие 4:"
   ]
  },
  {
   "cell_type": "code",
   "execution_count": null,
   "id": "0ce1d5a9",
   "metadata": {},
   "outputs": [],
   "source": [
    "Даны два списка.\n",
    "Дата покупки\n",
    "['2021-09-14', '2021-12-15', '2021-09-08', '2021-12-05', '2021-10-09', '2021-09-30', '2021-12-22', '2021-11-29', '2021-12-24', '2021-11-26', '2021-10-27', '2021-12-18', '2021-11-09', '2021-11-23', '2021-09-27', '2021-10-02', '2021-12-27', '2021-09-20', '2021-12-13', '2021-11-01', '2021-11-09', '2021-12-06', '2021-12-08', '2021-10-09', '2021-10-31', '2021-09-30', '2021-11-09', '2021-12-13', '2021-10-26', '2021-12-09']\n",
    "Суммы покупок по датам\n",
    "[1270, 8413, 9028, 3703, 5739, 4095, 295, 4944, 5723, 3701, 4471, 651, 7037, 4274, 6275, 4988, 6930, 2971, 6592, 2004, 2822, 519, 3406, 2732, 5015, 2008, 316, 6333, 5700, 2887]"
   ]
  },
  {
   "cell_type": "markdown",
   "id": "25a73d16",
   "metadata": {},
   "source": [
    "### 4.1 Найдите, какая выручка у компании в ноябре\n",
    "Используйте list comprehensions"
   ]
  },
  {
   "cell_type": "code",
   "execution_count": 42,
   "id": "3f7722d6",
   "metadata": {},
   "outputs": [],
   "source": [
    "import datetime"
   ]
  },
  {
   "cell_type": "code",
   "execution_count": 72,
   "id": "8026152e",
   "metadata": {},
   "outputs": [],
   "source": [
    "purchase_date_str: list[str] = [\n",
    "    '2021-09-14', '2021-12-15', '2021-09-08', '2021-12-05', '2021-10-09', '2021-09-30', '2021-12-22', '2021-11-29', \n",
    "    '2021-12-24', '2021-11-26', '2021-10-27', '2021-12-18', '2021-11-09', '2021-11-23', '2021-09-27', '2021-10-02',\n",
    "    '2021-12-27', '2021-09-20', '2021-12-13', '2021-11-01', '2021-11-09', '2021-12-06', '2021-12-08', '2021-10-09',\n",
    "    '2021-10-31', '2021-09-30', '2021-11-09', '2021-12-13', '2021-10-26', '2021-12-09']\n",
    "purchase_amount: list[int]= [1270, 8413, 9028, 3703, 5739, 4095, 295, 4944, 5723, 3701, 4471, 651, 7037, 4274, 6275,\n",
    "                             4988, 6930, 2971, 6592, 2004, 2822, 519, 3406, 2732, 5015, 2008, 316, 6333, 5700, 2887]\n",
    "m: int = 11"
   ]
  },
  {
   "cell_type": "code",
   "execution_count": 73,
   "id": "c41ff957",
   "metadata": {},
   "outputs": [
    {
     "data": {
      "text/plain": [
       "30"
      ]
     },
     "execution_count": 73,
     "metadata": {},
     "output_type": "execute_result"
    }
   ],
   "source": [
    "len(purchase_amount)"
   ]
  },
  {
   "cell_type": "code",
   "execution_count": 74,
   "id": "803d8a48",
   "metadata": {},
   "outputs": [
    {
     "data": {
      "text/plain": [
       "25098"
      ]
     },
     "execution_count": 74,
     "metadata": {},
     "output_type": "execute_result"
    }
   ],
   "source": [
    "s: int = 0\n",
    "if len(purchase_date_str) == len(purchase_amount):\n",
    "     s = sum([purchase_amount[i] for i, el in enumerate(purchase_date_str) \n",
    "              if datetime.datetime.strptime(el, '%Y-%m-%d').month == m])\n",
    "s"
   ]
  },
  {
   "cell_type": "markdown",
   "id": "2bf86367",
   "metadata": {},
   "source": [
    "### 4.2 Найдите выручку компании в зависимости от месяца\n",
    "Для этого напишите функцию, которая на вход принимает список с датами и список с выручкой, а на выходе словарь, где ключи - это месяцы, а значения - это выручка.\n",
    "Используйте аннотирование типов."
   ]
  },
  {
   "cell_type": "code",
   "execution_count": 77,
   "id": "67205e1e",
   "metadata": {},
   "outputs": [],
   "source": [
    "def purchase_amount_by_mont(purchase_date_str: list[str], purchase_amount: list[int])-> dict[int, int]:\n",
    "    r: dict[int, int]  = {}\n",
    "    if len(purchase_date_str) == len(purchase_amount):\n",
    "        for i, el in enumerate(purchase_date_str):\n",
    "            m = datetime.datetime.strptime(el, '%Y-%m-%d').month\n",
    "            if m in r.keys():\n",
    "                r[m] += purchase_amount[i]\n",
    "            else:\n",
    "                r[m] = purchase_amount[i]\n",
    "    return r"
   ]
  },
  {
   "cell_type": "code",
   "execution_count": 78,
   "id": "c4d63cc0",
   "metadata": {},
   "outputs": [
    {
     "data": {
      "text/plain": [
       "{9: 25647, 12: 45452, 10: 28645, 11: 25098}"
      ]
     },
     "execution_count": 78,
     "metadata": {},
     "output_type": "execute_result"
    }
   ],
   "source": [
    "purchase_amount_by_mont(purchase_date_str, purchase_amount)"
   ]
  },
  {
   "cell_type": "code",
   "execution_count": null,
   "id": "490e6ce3",
   "metadata": {},
   "outputs": [],
   "source": []
  }
 ],
 "metadata": {
  "kernelspec": {
   "display_name": "Python 3 (ipykernel)",
   "language": "python",
   "name": "python3"
  },
  "language_info": {
   "codemirror_mode": {
    "name": "ipython",
    "version": 3
   },
   "file_extension": ".py",
   "mimetype": "text/x-python",
   "name": "python",
   "nbconvert_exporter": "python",
   "pygments_lexer": "ipython3",
   "version": "3.10.6"
  }
 },
 "nbformat": 4,
 "nbformat_minor": 5
}
